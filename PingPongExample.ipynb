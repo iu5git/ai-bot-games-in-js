{
  "nbformat": 4,
  "nbformat_minor": 0,
  "metadata": {
    "colab": {
      "provenance": [],
      "collapsed_sections": []
    },
    "kernelspec": {
      "name": "python3",
      "display_name": "Python 3"
    },
    "language_info": {
      "name": "python"
    }
  },
  "cells": [
    {
      "cell_type": "code",
      "execution_count": null,
      "metadata": {
        "colab": {
          "base_uri": "https://localhost:8080/"
        },
        "id": "3VGEEjKzJjYK",
        "outputId": "78298105-630c-4131-9464-fc07c8d55c45"
      },
      "outputs": [
        {
          "output_type": "stream",
          "name": "stdout",
          "text": [
            "Requirement already satisfied: onnxmltools==1.7.0 in /usr/local/lib/python3.7/dist-packages (1.7.0)\n",
            "Requirement already satisfied: onnxruntime==1.4.0 in /usr/local/lib/python3.7/dist-packages (1.4.0)\n",
            "Requirement already satisfied: onnxconverter-common<1.8.0,>=1.7.0 in /usr/local/lib/python3.7/dist-packages (from onnxmltools==1.7.0) (1.7.0)\n",
            "Requirement already satisfied: protobuf in /usr/local/lib/python3.7/dist-packages (from onnxmltools==1.7.0) (3.17.3)\n",
            "Requirement already satisfied: skl2onnx in /usr/local/lib/python3.7/dist-packages (from onnxmltools==1.7.0) (1.10.3)\n",
            "Requirement already satisfied: numpy in /usr/local/lib/python3.7/dist-packages (from onnxmltools==1.7.0) (1.19.5)\n",
            "Requirement already satisfied: keras2onnx in /usr/local/lib/python3.7/dist-packages (from onnxmltools==1.7.0) (1.7.0)\n",
            "Requirement already satisfied: onnx in /usr/local/lib/python3.7/dist-packages (from onnxmltools==1.7.0) (1.10.2)\n",
            "Requirement already satisfied: requests in /usr/local/lib/python3.7/dist-packages (from keras2onnx->onnxmltools==1.7.0) (2.23.0)\n",
            "Requirement already satisfied: fire in /usr/local/lib/python3.7/dist-packages (from keras2onnx->onnxmltools==1.7.0) (0.4.0)\n",
            "Requirement already satisfied: six in /usr/local/lib/python3.7/dist-packages (from fire->keras2onnx->onnxmltools==1.7.0) (1.15.0)\n",
            "Requirement already satisfied: termcolor in /usr/local/lib/python3.7/dist-packages (from fire->keras2onnx->onnxmltools==1.7.0) (1.1.0)\n",
            "Requirement already satisfied: typing-extensions>=3.6.2.1 in /usr/local/lib/python3.7/dist-packages (from onnx->onnxmltools==1.7.0) (3.10.0.2)\n",
            "Requirement already satisfied: chardet<4,>=3.0.2 in /usr/local/lib/python3.7/dist-packages (from requests->keras2onnx->onnxmltools==1.7.0) (3.0.4)\n",
            "Requirement already satisfied: certifi>=2017.4.17 in /usr/local/lib/python3.7/dist-packages (from requests->keras2onnx->onnxmltools==1.7.0) (2021.10.8)\n",
            "Requirement already satisfied: urllib3!=1.25.0,!=1.25.1,<1.26,>=1.21.1 in /usr/local/lib/python3.7/dist-packages (from requests->keras2onnx->onnxmltools==1.7.0) (1.24.3)\n",
            "Requirement already satisfied: idna<3,>=2.5 in /usr/local/lib/python3.7/dist-packages (from requests->keras2onnx->onnxmltools==1.7.0) (2.10)\n",
            "Requirement already satisfied: scikit-learn>=0.19 in /usr/local/lib/python3.7/dist-packages (from skl2onnx->onnxmltools==1.7.0) (1.0.1)\n",
            "Requirement already satisfied: scipy>=1.0 in /usr/local/lib/python3.7/dist-packages (from skl2onnx->onnxmltools==1.7.0) (1.4.1)\n",
            "Requirement already satisfied: threadpoolctl>=2.0.0 in /usr/local/lib/python3.7/dist-packages (from scikit-learn>=0.19->skl2onnx->onnxmltools==1.7.0) (3.0.0)\n",
            "Requirement already satisfied: joblib>=0.11 in /usr/local/lib/python3.7/dist-packages (from scikit-learn>=0.19->skl2onnx->onnxmltools==1.7.0) (1.1.0)\n",
            "Requirement already satisfied: tensorflow==1.14.0 in /usr/local/lib/python3.7/dist-packages (1.14.0)\n",
            "Requirement already satisfied: wheel>=0.26 in /usr/local/lib/python3.7/dist-packages (from tensorflow==1.14.0) (0.37.0)\n",
            "Requirement already satisfied: numpy<2.0,>=1.14.5 in /usr/local/lib/python3.7/dist-packages (from tensorflow==1.14.0) (1.19.5)\n",
            "Requirement already satisfied: termcolor>=1.1.0 in /usr/local/lib/python3.7/dist-packages (from tensorflow==1.14.0) (1.1.0)\n",
            "Requirement already satisfied: protobuf>=3.6.1 in /usr/local/lib/python3.7/dist-packages (from tensorflow==1.14.0) (3.17.3)\n",
            "Requirement already satisfied: gast>=0.2.0 in /usr/local/lib/python3.7/dist-packages (from tensorflow==1.14.0) (0.4.0)\n",
            "Requirement already satisfied: wrapt>=1.11.1 in /usr/local/lib/python3.7/dist-packages (from tensorflow==1.14.0) (1.13.3)\n",
            "Requirement already satisfied: astor>=0.6.0 in /usr/local/lib/python3.7/dist-packages (from tensorflow==1.14.0) (0.8.1)\n",
            "Requirement already satisfied: tensorboard<1.15.0,>=1.14.0 in /usr/local/lib/python3.7/dist-packages (from tensorflow==1.14.0) (1.14.0)\n",
            "Requirement already satisfied: absl-py>=0.7.0 in /usr/local/lib/python3.7/dist-packages (from tensorflow==1.14.0) (0.12.0)\n",
            "Requirement already satisfied: keras-applications>=1.0.6 in /usr/local/lib/python3.7/dist-packages (from tensorflow==1.14.0) (1.0.8)\n",
            "Requirement already satisfied: keras-preprocessing>=1.0.5 in /usr/local/lib/python3.7/dist-packages (from tensorflow==1.14.0) (1.1.2)\n",
            "Requirement already satisfied: six>=1.10.0 in /usr/local/lib/python3.7/dist-packages (from tensorflow==1.14.0) (1.15.0)\n",
            "Requirement already satisfied: grpcio>=1.8.6 in /usr/local/lib/python3.7/dist-packages (from tensorflow==1.14.0) (1.42.0)\n",
            "Requirement already satisfied: google-pasta>=0.1.6 in /usr/local/lib/python3.7/dist-packages (from tensorflow==1.14.0) (0.2.0)\n",
            "Requirement already satisfied: tensorflow-estimator<1.15.0rc0,>=1.14.0rc0 in /usr/local/lib/python3.7/dist-packages (from tensorflow==1.14.0) (1.14.0)\n",
            "Requirement already satisfied: h5py in /usr/local/lib/python3.7/dist-packages (from keras-applications>=1.0.6->tensorflow==1.14.0) (3.1.0)\n",
            "Requirement already satisfied: markdown>=2.6.8 in /usr/local/lib/python3.7/dist-packages (from tensorboard<1.15.0,>=1.14.0->tensorflow==1.14.0) (3.3.6)\n",
            "Requirement already satisfied: setuptools>=41.0.0 in /usr/local/lib/python3.7/dist-packages (from tensorboard<1.15.0,>=1.14.0->tensorflow==1.14.0) (57.4.0)\n",
            "Requirement already satisfied: werkzeug>=0.11.15 in /usr/local/lib/python3.7/dist-packages (from tensorboard<1.15.0,>=1.14.0->tensorflow==1.14.0) (1.0.1)\n",
            "Requirement already satisfied: importlib-metadata>=4.4 in /usr/local/lib/python3.7/dist-packages (from markdown>=2.6.8->tensorboard<1.15.0,>=1.14.0->tensorflow==1.14.0) (4.8.2)\n",
            "Requirement already satisfied: typing-extensions>=3.6.4 in /usr/local/lib/python3.7/dist-packages (from importlib-metadata>=4.4->markdown>=2.6.8->tensorboard<1.15.0,>=1.14.0->tensorflow==1.14.0) (3.10.0.2)\n",
            "Requirement already satisfied: zipp>=0.5 in /usr/local/lib/python3.7/dist-packages (from importlib-metadata>=4.4->markdown>=2.6.8->tensorboard<1.15.0,>=1.14.0->tensorflow==1.14.0) (3.6.0)\n",
            "Requirement already satisfied: cached-property in /usr/local/lib/python3.7/dist-packages (from h5py->keras-applications>=1.0.6->tensorflow==1.14.0) (1.5.2)\n"
          ]
        }
      ],
      "source": [
        "!pip install onnxmltools==1.7.0 onnxruntime==1.4.0\n",
        "!pip install tensorflow==1.14.0"
      ]
    },
    {
      "cell_type": "code",
      "source": [
        "import tensorflow as tf\n",
        "from tensorflow.keras import backend as K\n",
        "import sklearn\n",
        "from sklearn.ensemble import RandomForestRegressor\n",
        "from sklearn.metrics import r2_score\n",
        "from sklearn.metrics import confusion_matrix\n",
        "import numpy as np\n",
        "import pandas as pd\n",
        "from PIL import Image\n",
        "import os\n",
        "\n",
        "os.environ['TF_KERAS'] = '1'\n",
        "import onnxmltools\n",
        "from skl2onnx.common.data_types import FloatTensorType\n",
        "import onnx\n",
        "import onnxruntime\n",
        "import matplotlib.pyplot as plt\n",
        "%matplotlib inline"
      ],
      "metadata": {
        "id": "c0Nwpg20Jml_",
        "colab": {
          "base_uri": "https://localhost:8080/"
        },
        "outputId": "0962b651-e142-455d-a00d-c401e687bc74"
      },
      "execution_count": null,
      "outputs": [
        {
          "output_type": "stream",
          "name": "stderr",
          "text": [
            "/usr/local/lib/python3.7/dist-packages/tensorflow/python/framework/dtypes.py:516: FutureWarning: Passing (type, 1) or '1type' as a synonym of type is deprecated; in a future version of numpy, it will be understood as (type, (1,)) / '(1,)type'.\n",
            "  _np_qint8 = np.dtype([(\"qint8\", np.int8, 1)])\n",
            "/usr/local/lib/python3.7/dist-packages/tensorflow/python/framework/dtypes.py:517: FutureWarning: Passing (type, 1) or '1type' as a synonym of type is deprecated; in a future version of numpy, it will be understood as (type, (1,)) / '(1,)type'.\n",
            "  _np_quint8 = np.dtype([(\"quint8\", np.uint8, 1)])\n",
            "/usr/local/lib/python3.7/dist-packages/tensorflow/python/framework/dtypes.py:518: FutureWarning: Passing (type, 1) or '1type' as a synonym of type is deprecated; in a future version of numpy, it will be understood as (type, (1,)) / '(1,)type'.\n",
            "  _np_qint16 = np.dtype([(\"qint16\", np.int16, 1)])\n",
            "/usr/local/lib/python3.7/dist-packages/tensorflow/python/framework/dtypes.py:519: FutureWarning: Passing (type, 1) or '1type' as a synonym of type is deprecated; in a future version of numpy, it will be understood as (type, (1,)) / '(1,)type'.\n",
            "  _np_quint16 = np.dtype([(\"quint16\", np.uint16, 1)])\n",
            "/usr/local/lib/python3.7/dist-packages/tensorflow/python/framework/dtypes.py:520: FutureWarning: Passing (type, 1) or '1type' as a synonym of type is deprecated; in a future version of numpy, it will be understood as (type, (1,)) / '(1,)type'.\n",
            "  _np_qint32 = np.dtype([(\"qint32\", np.int32, 1)])\n",
            "/usr/local/lib/python3.7/dist-packages/tensorflow/python/framework/dtypes.py:525: FutureWarning: Passing (type, 1) or '1type' as a synonym of type is deprecated; in a future version of numpy, it will be understood as (type, (1,)) / '(1,)type'.\n",
            "  np_resource = np.dtype([(\"resource\", np.ubyte, 1)])\n",
            "/usr/local/lib/python3.7/dist-packages/tensorboard/compat/tensorflow_stub/dtypes.py:541: FutureWarning: Passing (type, 1) or '1type' as a synonym of type is deprecated; in a future version of numpy, it will be understood as (type, (1,)) / '(1,)type'.\n",
            "  _np_qint8 = np.dtype([(\"qint8\", np.int8, 1)])\n",
            "/usr/local/lib/python3.7/dist-packages/tensorboard/compat/tensorflow_stub/dtypes.py:542: FutureWarning: Passing (type, 1) or '1type' as a synonym of type is deprecated; in a future version of numpy, it will be understood as (type, (1,)) / '(1,)type'.\n",
            "  _np_quint8 = np.dtype([(\"quint8\", np.uint8, 1)])\n",
            "/usr/local/lib/python3.7/dist-packages/tensorboard/compat/tensorflow_stub/dtypes.py:543: FutureWarning: Passing (type, 1) or '1type' as a synonym of type is deprecated; in a future version of numpy, it will be understood as (type, (1,)) / '(1,)type'.\n",
            "  _np_qint16 = np.dtype([(\"qint16\", np.int16, 1)])\n",
            "/usr/local/lib/python3.7/dist-packages/tensorboard/compat/tensorflow_stub/dtypes.py:544: FutureWarning: Passing (type, 1) or '1type' as a synonym of type is deprecated; in a future version of numpy, it will be understood as (type, (1,)) / '(1,)type'.\n",
            "  _np_quint16 = np.dtype([(\"quint16\", np.uint16, 1)])\n",
            "/usr/local/lib/python3.7/dist-packages/tensorboard/compat/tensorflow_stub/dtypes.py:545: FutureWarning: Passing (type, 1) or '1type' as a synonym of type is deprecated; in a future version of numpy, it will be understood as (type, (1,)) / '(1,)type'.\n",
            "  _np_qint32 = np.dtype([(\"qint32\", np.int32, 1)])\n",
            "/usr/local/lib/python3.7/dist-packages/tensorboard/compat/tensorflow_stub/dtypes.py:550: FutureWarning: Passing (type, 1) or '1type' as a synonym of type is deprecated; in a future version of numpy, it will be understood as (type, (1,)) / '(1,)type'.\n",
            "  np_resource = np.dtype([(\"resource\", np.ubyte, 1)])\n"
          ]
        }
      ]
    },
    {
      "cell_type": "code",
      "source": [
        "#1yZS6I7-j19HxVXuwD-2cOLv-SxDoGFsk\n",
        "#11VhID0bod6neOfsUBkaYvkiEMVyr9Wjx\n",
        "!gdown --id 1fgyvtdg6ShgXBvTZWQEBJGjKTjRATbSj\n",
        "!gdown --id 11VhID0bod6neOfsUBkaYvkiEMVyr9Wjx\n",
        "!gdown --id 1yZS6I7-j19HxVXuwD-2cOLv-SxDoGFsk"
      ],
      "metadata": {
        "colab": {
          "base_uri": "https://localhost:8080/"
        },
        "id": "EcHum2fKJwSy",
        "outputId": "fea08663-445e-499d-d03d-9bc6a025c6eb"
      },
      "execution_count": null,
      "outputs": [
        {
          "output_type": "stream",
          "name": "stdout",
          "text": [
            "Downloading...\n",
            "From: https://drive.google.com/uc?id=1fgyvtdg6ShgXBvTZWQEBJGjKTjRATbSj\n",
            "To: /content/ping_pong_dataset_40k.csv\n",
            "100% 947k/947k [00:00<00:00, 42.2MB/s]\n",
            "Downloading...\n",
            "From: https://drive.google.com/uc?id=11VhID0bod6neOfsUBkaYvkiEMVyr9Wjx\n",
            "To: /content/ping_pong_dataset_bot.csv\n",
            "100% 4.02M/4.02M [00:00<00:00, 48.0MB/s]\n",
            "Downloading...\n",
            "From: https://drive.google.com/uc?id=1yZS6I7-j19HxVXuwD-2cOLv-SxDoGFsk\n",
            "To: /content/ping_pong_dataset.csv\n",
            "100% 563k/563k [00:00<00:00, 29.2MB/s]\n"
          ]
        }
      ]
    },
    {
      "cell_type": "code",
      "source": [
        "df = pd.read_csv('ping_pong_dataset_40k.csv')\n",
        "df2 = pd.read_csv('ping_pong_dataset_bot.csv')\n",
        "df3 = pd.read_csv('ping_pong_dataset.csv')\n",
        "df = pd.concat([df,df2,df3])\n",
        "df['action'] = (df.nothing)+(df.down*2)+(df.up*3)\n",
        "df.action.value_counts()\n",
        "# очистка данных\n",
        "df = df[df.ball_x.between(np.percentile(df.ball_x, 1),\n",
        "                          np.percentile(df.ball_x, 99))].copy()\n",
        "df['diff_y'] = df.ball_y - df.paddle_y\n",
        "# cond0 = df.ball_x>np.percentile(df.ball_x, 95)\n",
        "# pdf = df[cond0].copy()\n",
        "# diff_y_mean = pdf.diff_y.mean()\n",
        "# diff_ystd = pdf.diff_y.std()\n",
        "# cond1 = df.diff_y.between(-30, 30)\n",
        "# mask = (cond0 & cond1) | (~cond0)\n",
        "# df = df[mask].copy()\n",
        "df.loc[(df.ball_x>350) & (np.abs(df.diff_y)<10), ['up','down','nothing','action']]=np.array([0,0,1,1])\n",
        "df.loc[(df.ball_x>350) & (df.diff_y<-10), ['up','down','nothing','action']]=np.array([1,0,0,2])\n",
        "df.loc[(df.ball_x>350) & (df.diff_y>10), ['up','down','nothing','action']]=np.array([0,1,0,3])"
      ],
      "metadata": {
        "id": "MrNv4E65JrYe"
      },
      "execution_count": null,
      "outputs": []
    },
    {
      "cell_type": "code",
      "source": [
        "# аугментация\n",
        "df_inv = df.copy()\n",
        "noise = np.random.normal(scale=5, size=df_inv.shape[0])\n",
        "df_inv.ball_y = df_inv.ball_y.max() + df_inv.ball_y.min() - df_inv.ball_y + noise\n",
        "df_inv.paddle_y = df_inv.paddle_y.max() + df_inv.paddle_y.min() - df_inv.paddle_y + noise\n",
        "up = df_inv.down.values.copy()\n",
        "down = df_inv.up.values.copy()\n",
        "df_inv.up = up\n",
        "df_inv.down = down\n",
        "df_inv['action'] = (df_inv.nothing)+(df_inv.down*2)+(df_inv.up*3)\n",
        "df_aug = pd.concat([df, df_inv])\n",
        "# look-ahead\n",
        "df_aug.up = df_aug.up.shift(-5)\n",
        "df_aug.down = df_aug.down.shift(-5)\n",
        "df_aug.nothing = df_aug.nothing.shift(-5)\n",
        "df_aug = df_aug.dropna()"
      ],
      "metadata": {
        "id": "4f43ENlMKYkp"
      },
      "execution_count": null,
      "outputs": []
    },
    {
      "cell_type": "code",
      "source": [
        "# создание модели\n",
        "inp = tf.keras.layers.Input((3,), name='input')\n",
        "x = tf.keras.layers.Dense(256, activation='relu', kernel_regularizer=tf.keras.regularizers.l2(1e-5))(inp)\n",
        "x = tf.keras.layers.Dense(64, activation='relu', kernel_regularizer=tf.keras.regularizers.l2(1e-5))(x)\n",
        "out = tf.keras.layers.Dense(3, activation='softmax', name='output', kernel_regularizer=tf.keras.regularizers.l2(1e-5))(x)\n",
        "model = tf.keras.models.Model(inp, out)\n",
        "model.summary()\n",
        "model.compile(loss='categorical_crossentropy', optimizer='rmsprop', metrics=['accuracy'])"
      ],
      "metadata": {
        "colab": {
          "base_uri": "https://localhost:8080/"
        },
        "id": "sl8vqOZdKfvg",
        "outputId": "ef8a0481-0378-4519-88a3-501d2eab41e8"
      },
      "execution_count": null,
      "outputs": [
        {
          "output_type": "stream",
          "name": "stdout",
          "text": [
            "WARNING:tensorflow:From /usr/local/lib/python3.7/dist-packages/tensorflow/python/ops/init_ops.py:1251: calling VarianceScaling.__init__ (from tensorflow.python.ops.init_ops) with dtype is deprecated and will be removed in a future version.\n",
            "Instructions for updating:\n",
            "Call initializer instance with the dtype argument instead of passing it to the constructor\n",
            "Model: \"model\"\n",
            "_________________________________________________________________\n",
            "Layer (type)                 Output Shape              Param #   \n",
            "=================================================================\n",
            "input (InputLayer)           [(None, 3)]               0         \n",
            "_________________________________________________________________\n",
            "dense (Dense)                (None, 256)               1024      \n",
            "_________________________________________________________________\n",
            "dense_1 (Dense)              (None, 64)                16448     \n",
            "_________________________________________________________________\n",
            "output (Dense)               (None, 3)                 195       \n",
            "=================================================================\n",
            "Total params: 17,667\n",
            "Trainable params: 17,667\n",
            "Non-trainable params: 0\n",
            "_________________________________________________________________\n"
          ]
        }
      ]
    },
    {
      "cell_type": "code",
      "source": [
        "# обучение\n",
        "X = df_aug.loc[df_aug.ball_x>100, ['ball_x', 'ball_y', 'paddle_y']].values / 705 # нормализация\n",
        "y = df_aug.loc[df_aug.ball_x>100, ['nothing', 'down', 'up']].values\n",
        "tf.keras.backend.set_value(model.optimizer.lr, 2e-3)\n",
        "model.fit(X,y,batch_size=128, epochs=10, verbose=1, class_weight={0:0.1, 1:1, 2:1})\n",
        "tf.keras.backend.set_value(model.optimizer.lr, 2e-4) # понижаем шаг обучения\n",
        "model.fit(X,y,batch_size=128, epochs=10, verbose=1, class_weight={0:0.1, 1:1, 2:1})"
      ],
      "metadata": {
        "colab": {
          "base_uri": "https://localhost:8080/"
        },
        "id": "g7zsiPvTKkWU",
        "outputId": "b87091a0-a6fc-4e5c-a682-b6bf6ca96b4b"
      },
      "execution_count": null,
      "outputs": [
        {
          "output_type": "stream",
          "name": "stdout",
          "text": [
            "Epoch 1/10\n",
            "539581/539581 [==============================] - 11s 21us/sample - loss: 0.2724 - acc: 0.7527\n",
            "Epoch 2/10\n",
            "539581/539581 [==============================] - 11s 20us/sample - loss: 0.2507 - acc: 0.7763\n",
            "Epoch 3/10\n",
            "539581/539581 [==============================] - 11s 20us/sample - loss: 0.2433 - acc: 0.7826\n",
            "Epoch 4/10\n",
            "539581/539581 [==============================] - 12s 23us/sample - loss: 0.2400 - acc: 0.7858\n",
            "Epoch 5/10\n",
            "539581/539581 [==============================] - 11s 20us/sample - loss: 0.2378 - acc: 0.7880\n",
            "Epoch 6/10\n",
            "539581/539581 [==============================] - 11s 20us/sample - loss: 0.2364 - acc: 0.7898\n",
            "Epoch 7/10\n",
            "539581/539581 [==============================] - 11s 21us/sample - loss: 0.2354 - acc: 0.7906\n",
            "Epoch 8/10\n",
            "539581/539581 [==============================] - 11s 20us/sample - loss: 0.2342 - acc: 0.7920\n",
            "Epoch 9/10\n",
            "539581/539581 [==============================] - 11s 20us/sample - loss: 0.2335 - acc: 0.7925\n",
            "Epoch 10/10\n",
            "539581/539581 [==============================] - 11s 20us/sample - loss: 0.2328 - acc: 0.7936\n",
            "Epoch 1/10\n",
            "539581/539581 [==============================] - 11s 20us/sample - loss: 0.2247 - acc: 0.8007\n",
            "Epoch 2/10\n",
            "539581/539581 [==============================] - 11s 20us/sample - loss: 0.2244 - acc: 0.8011\n",
            "Epoch 3/10\n",
            "539581/539581 [==============================] - 11s 20us/sample - loss: 0.2241 - acc: 0.8015\n",
            "Epoch 4/10\n",
            "539581/539581 [==============================] - 12s 23us/sample - loss: 0.2240 - acc: 0.8016\n",
            "Epoch 5/10\n",
            "539581/539581 [==============================] - 11s 20us/sample - loss: 0.2239 - acc: 0.8017\n",
            "Epoch 6/10\n",
            "539581/539581 [==============================] - 11s 20us/sample - loss: 0.2237 - acc: 0.8021\n",
            "Epoch 7/10\n",
            "539581/539581 [==============================] - 11s 21us/sample - loss: 0.2236 - acc: 0.8024\n",
            "Epoch 8/10\n",
            "539581/539581 [==============================] - 11s 20us/sample - loss: 0.2235 - acc: 0.8027\n",
            "Epoch 9/10\n",
            "539581/539581 [==============================] - 11s 20us/sample - loss: 0.2233 - acc: 0.8028\n",
            "Epoch 10/10\n",
            "539581/539581 [==============================] - 11s 20us/sample - loss: 0.2232 - acc: 0.8028\n"
          ]
        },
        {
          "output_type": "execute_result",
          "data": {
            "text/plain": [
              "<tensorflow.python.keras.callbacks.History at 0x7f8fabb17f50>"
            ]
          },
          "metadata": {},
          "execution_count": 7
        }
      ]
    },
    {
      "cell_type": "code",
      "source": [
        "# проверка на оригинальных данных\n",
        "confusion_matrix(df.loc[:, ['nothing', 'down', 'up']].values.argmax(-1),\n",
        "                 model.predict(df[['ball_x', 'ball_y', 'paddle_y']].values / 705).argmax(axis=-1))"
      ],
      "metadata": {
        "colab": {
          "base_uri": "https://localhost:8080/"
        },
        "id": "7T8dzefxKnXW",
        "outputId": "e025072d-ae75-41ce-bf38-7562c0396476"
      },
      "execution_count": null,
      "outputs": [
        {
          "output_type": "execute_result",
          "data": {
            "text/plain": [
              "array([[98126,  7741, 27213],\n",
              "       [  884, 86964, 18587],\n",
              "       [ 1317,  1092, 49651]])"
            ]
          },
          "metadata": {},
          "execution_count": 8
        }
      ]
    },
    {
      "cell_type": "code",
      "source": [
        "from sklearn.metrics import classification_report\n",
        "print(classification_report(df.loc[:, ['nothing', 'down', 'up']].values.argmax(-1), model.predict(df[['ball_x', 'ball_y', 'paddle_y']].values / 705).argmax(axis=-1)))"
      ],
      "metadata": {
        "colab": {
          "base_uri": "https://localhost:8080/"
        },
        "id": "h-MokAUpNORI",
        "outputId": "f6825773-cd00-4cb6-d1a2-337b8750d190"
      },
      "execution_count": null,
      "outputs": [
        {
          "output_type": "stream",
          "name": "stdout",
          "text": [
            "              precision    recall  f1-score   support\n",
            "\n",
            "           0       0.98      0.74      0.84    133080\n",
            "           1       0.91      0.82      0.86    106435\n",
            "           2       0.52      0.95      0.67     52060\n",
            "\n",
            "    accuracy                           0.81    291575\n",
            "   macro avg       0.80      0.84      0.79    291575\n",
            "weighted avg       0.87      0.81      0.82    291575\n",
            "\n"
          ]
        }
      ]
    },
    {
      "cell_type": "code",
      "source": [
        "# конвертация модели\n",
        "onnx_model = onnxmltools.convert_keras(model, target_opset=9)"
      ],
      "metadata": {
        "colab": {
          "base_uri": "https://localhost:8080/"
        },
        "id": "-wuiSRwjK23R",
        "outputId": "a9ffc2b8-844a-4570-a2fa-61e39ff7510b"
      },
      "execution_count": null,
      "outputs": [
        {
          "output_type": "stream",
          "name": "stderr",
          "text": [
            "The ONNX operator number change on the optimization: 13 -> 9\n",
            "The maximum opset needed by this model is only 7.\n"
          ]
        }
      ]
    },
    {
      "cell_type": "code",
      "source": [
        "# сохранение модели, тестовый запуск\n",
        "with open('pingpong.onnx', 'wb') as f:\n",
        "    f.write(onnx_model.SerializeToString())\n",
        "sess = onnxruntime.InferenceSession('pingpong.onnx')\n",
        "print([(node.name, node.shape) for node in sess.get_inputs()])\n",
        "sess.run(None, {'input': np.ones((1, 3), dtype=np.float32)})"
      ],
      "metadata": {
        "colab": {
          "base_uri": "https://localhost:8080/"
        },
        "id": "PTAzkPu6K7LH",
        "outputId": "7ebf1177-26cb-4e52-bdf9-005e77246fed"
      },
      "execution_count": null,
      "outputs": [
        {
          "output_type": "stream",
          "name": "stdout",
          "text": [
            "[('input', ['N', 3])]\n"
          ]
        },
        {
          "output_type": "execute_result",
          "data": {
            "text/plain": [
              "[array([[2.5585712e-05, 7.2734673e-03, 9.9270093e-01]], dtype=float32)]"
            ]
          },
          "metadata": {},
          "execution_count": 11
        }
      ]
    }
  ]
}